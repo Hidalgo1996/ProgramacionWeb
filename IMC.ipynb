{
  "nbformat": 4,
  "nbformat_minor": 0,
  "metadata": {
    "colab": {
      "provenance": [],
      "include_colab_link": true
    },
    "kernelspec": {
      "name": "python3",
      "display_name": "Python 3"
    },
    "language_info": {
      "name": "python"
    }
  },
  "cells": [
    {
      "cell_type": "markdown",
      "metadata": {
        "id": "view-in-github",
        "colab_type": "text"
      },
      "source": [
        "<a href=\"https://colab.research.google.com/github/Hidalgo1996/ProgramacionWeb/blob/main/IMC.ipynb\" target=\"_parent\"><img src=\"https://colab.research.google.com/assets/colab-badge.svg\" alt=\"Open In Colab\"/></a>"
      ]
    },
    {
      "cell_type": "markdown",
      "source": [
        "## Cálculo del indice de la masa corporal"
      ],
      "metadata": {
        "id": "OwRzpGYwGLde"
      }
    },
    {
      "cell_type": "code",
      "execution_count": 1,
      "metadata": {
        "colab": {
          "base_uri": "https://localhost:8080/"
        },
        "id": "Jc7jAYkZGIxT",
        "outputId": "858896f3-76b9-4c42-b43c-8357824d341e"
      },
      "outputs": [
        {
          "output_type": "stream",
          "name": "stdout",
          "text": [
            "35.111111111111114\n"
          ]
        }
      ],
      "source": [
        "#@title Cálculo del IMC { run: \"auto\" }\n",
        "ESTATURA = 1.50 #@param {type:\"number\"}\n",
        "PESO = 79 #@param {type:\"number\"}\n",
        "IMC = PESO/ESTATURA**2\n",
        "print(IMC)\n"
      ]
    },
    {
      "cell_type": "markdown",
      "source": [],
      "metadata": {
        "id": "przfrtoJGKRx"
      }
    }
  ]
}